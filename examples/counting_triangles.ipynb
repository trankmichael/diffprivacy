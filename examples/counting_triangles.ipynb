{
 "cells": [
  {
   "cell_type": "code",
   "execution_count": 25,
   "metadata": {},
   "outputs": [],
   "source": [
    "import sqlite3"
   ]
  },
  {
   "cell_type": "code",
   "execution_count": 29,
   "metadata": {
    "collapsed": true
   },
   "outputs": [],
   "source": [
    "COUNT_TRIANGLES = '''SELECT COUNT(*) FROM edges AS e1 \n",
    "                        JOIN edges AS e2 ON e1.destination = e2.source AND\n",
    "                                    e1.source < e2.source \n",
    "                        JOIN edges AS e3 ON e2.destination = e3.source AND\n",
    "                                    e3.destination = e1.source AND\n",
    "                                    e2.source < e3.source'''"
   ]
  },
  {
   "cell_type": "code",
   "execution_count": 30,
   "metadata": {},
   "outputs": [
    {
     "data": {
      "text/plain": [
       "[('24325', '24394'),\n",
       " ('24325', '40517'),\n",
       " ('24325', '58507'),\n",
       " ('24394', '3737'),\n",
       " ('24394', '3905')]"
      ]
     },
     "execution_count": 30,
     "metadata": {},
     "output_type": "execute_result"
    }
   ],
   "source": [
    "conn = sqlite3.connect(':memory:')\n",
    "c = conn.cursor()\n",
    "c.execute(\"CREATE TABLE edges (source, destination)\")\n",
    "to_sql = []\n",
    "with open(\"../data/ca-HepTh.txt\") as file: \n",
    "    for line in file: \n",
    "        to_sql.append(line)\n",
    "to_sql = to_sql[4:]\n",
    "to_sql = [x.split() for x in to_sql]\n",
    "c.executemany(\"INSERT INTO edges VALUES (?, ?)\", to_sql)\n",
    "conn.commit()\n",
    "c.execute(\"SELECT * FROM edges\")\n",
    "c.fetchall()[:5]"
   ]
  },
  {
   "cell_type": "code",
   "execution_count": 31,
   "metadata": {},
   "outputs": [
    {
     "data": {
      "text/plain": [
       "28339"
      ]
     },
     "execution_count": 31,
     "metadata": {},
     "output_type": "execute_result"
    }
   ],
   "source": [
    "c.execute(COUNT_TRIANGLES)\n",
    "c.fetchall()[0][0]"
   ]
  }
 ],
 "metadata": {
  "kernelspec": {
   "display_name": "Python 3",
   "language": "python",
   "name": "python3"
  },
  "language_info": {
   "codemirror_mode": {
    "name": "ipython",
    "version": 3
   },
   "file_extension": ".py",
   "mimetype": "text/x-python",
   "name": "python",
   "nbconvert_exporter": "python",
   "pygments_lexer": "ipython3",
   "version": "3.6.3"
  }
 },
 "nbformat": 4,
 "nbformat_minor": 2
}
